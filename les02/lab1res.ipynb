{
  "nbformat": 4,
  "nbformat_minor": 0,
  "metadata": {
    "colab": {
      "provenance": [],
      "authorship_tag": "ABX9TyN4CGGcc+3AxnNbxvUlcYfB",
      "include_colab_link": true
    },
    "kernelspec": {
      "name": "python3",
      "display_name": "Python 3"
    },
    "language_info": {
      "name": "python"
    }
  },
  "cells": [
    {
      "cell_type": "markdown",
      "metadata": {
        "id": "view-in-github",
        "colab_type": "text"
      },
      "source": [
        "<a href=\"https://colab.research.google.com/github/Yuu314/dap-2024/blob/main/les02/lab1res.ipynb\" target=\"_parent\"><img src=\"https://colab.research.google.com/assets/colab-badge.svg\" alt=\"Open In Colab\"/></a>"
      ]
    },
    {
      "cell_type": "markdown",
      "source": [
        "#**Лабораторная работа №2. Основы Python**"
      ],
      "metadata": {
        "id": "yRJJAm7ZyFCh"
      }
    },
    {
      "cell_type": "markdown",
      "source": [
        "**Задача 1.** Дан массив целых чисел nums и целочисленное значение target, вернуть индексы двух чисел таким образом, чтобы их сумма равнялась значению target."
      ],
      "metadata": {
        "id": "QWQGHfDB2ZDF"
      }
    },
    {
      "cell_type": "code",
      "execution_count": 2,
      "metadata": {
        "colab": {
          "base_uri": "https://localhost:8080/"
        },
        "id": "TGyxD-EdmHp-",
        "outputId": "f9a62659-3fb9-4765-9f69-9950a98e37eb"
      },
      "outputs": [
        {
          "output_type": "stream",
          "name": "stdout",
          "text": [
            "Введите элементы массива через пробел (например: 2 7 11 15): 8 5 2\n",
            "Введите значение target: 11\n",
            "Индексы чисел, сумма которых равна target: []\n"
          ]
        }
      ],
      "source": [
        "class Solution1(object):\n",
        "    def twoSum(self, nums, target):\n",
        "        num_to_index = {}\n",
        "        for index, num in enumerate(nums):\n",
        "            complement = target - num\n",
        "            if complement in num_to_index:\n",
        "                return [num_to_index[complement], index]\n",
        "            num_to_index[num] = index\n",
        "        return []\n",
        "\n",
        "nums_input = input(\"Введите элементы массива через пробел (например: 2 7 11 15): \")\n",
        "nums = list(map(int, nums_input.split()))\n",
        "\n",
        "target = int(input(\"Введите значение target: \"))\n",
        "\n",
        "solution = Solution1()\n",
        "\n",
        "result = solution.twoSum(nums, target)\n",
        "\n",
        "print(\"Индексы чисел, сумма которых равна target:\", result)"
      ]
    },
    {
      "cell_type": "markdown",
      "source": [
        "**Задача 2.** Дано целое число x, вернуть true, если x является палиндромом, и false в противном случае."
      ],
      "metadata": {
        "id": "_uW6BPMH2irQ"
      }
    },
    {
      "cell_type": "code",
      "source": [
        "class Solution:\n",
        "    def isPalindrome(self, x: int) -> bool:\n",
        "        if x < 0:\n",
        "            return False\n",
        "        s = str(x)\n",
        "        return s == s[::-1]\n",
        "\n",
        "user_input = input(\"Введите целое число: \")\n",
        "\n",
        "try:\n",
        "    x = int(user_input)\n",
        "    solution = Solution()\n",
        "    result = solution.isPalindrome(x)\n",
        "    print(f\"Число {x} является палиндромом: {result}\")\n",
        "except ValueError:\n",
        "    print(\"Ошибка: введите корректное целое число.\")\n"
      ],
      "metadata": {
        "colab": {
          "base_uri": "https://localhost:8080/"
        },
        "id": "H38vPdV32ram",
        "outputId": "28951226-2268-4049-a2ef-7bfdd52deaa3"
      },
      "execution_count": 4,
      "outputs": [
        {
          "output_type": "stream",
          "name": "stdout",
          "text": [
            "Введите целое число: 454\n",
            "Число 454 является палиндромом: True\n"
          ]
        }
      ]
    },
    {
      "cell_type": "markdown",
      "source": [
        "**Задача 3.** Римские цифры представлены семью различными символами:\n",
        "I, V, X, L, C, D и M.\n",
        "+ I = 1\n",
        "+ V = 5\n",
        "+ X = 10\n",
        "+ L = 50\n",
        "+ C = 100\n",
        "+ D = 500\n",
        "+ M = 1000\n",
        "\n",
        "Например, 2 в римской записи записывается как II, то есть просто две единицы, сложенные вместе. 12 записывается как XII, то есть просто X II. Число 27 записывается как XXVII, то есть XX V II.\n",
        "\n",
        "Римские цифры обычно записываются слева направо от большего к меньшему. Однако число четыре не IIII. Вместо этого число четыре записывается как IV.\n",
        "\n",
        "Поскольку единица стоит перед пятёркой, мы вычитаем её, получая четыре. Тот же принцип применим к числу девять, которое записывается как IX. Вычитание используется в шести случаях:\n",
        "\n",
        "+ I можно поставить перед V (5) и X (10), чтобы получить 4 и 9.\n",
        "+ X можно поставить перед L (50) и C (100), чтобы получить 40 и 90.\n",
        "+ C можно поставить перед D (500) и M (1000), чтобы получить 400 и 900.\n",
        "\n",
        "Данную римскую цифру преобразуйте в целое число."
      ],
      "metadata": {
        "id": "cCafSHla39FD"
      }
    },
    {
      "cell_type": "code",
      "source": [
        "class Solution:\n",
        "    def __init__(self):\n",
        "        self.roman_to_int = {\n",
        "            'I': 1,\n",
        "            'V': 5,\n",
        "            'X': 10,\n",
        "            'L': 50,\n",
        "            'C': 100,\n",
        "            'D': 500,\n",
        "            'M': 1000\n",
        "        }\n",
        "\n",
        "    def romanToInt(self, s: str) -> int:\n",
        "        total = 0\n",
        "        prev_value = 0\n",
        "\n",
        "        for char in reversed(s):\n",
        "            value = self.roman_to_int[char]\n",
        "            if value < prev_value:\n",
        "                total -= value\n",
        "            else:\n",
        "                total += value\n",
        "            prev_value = value\n",
        "\n",
        "        return total\n",
        "\n",
        "    def is_valid_roman(self, s: str) -> bool:\n",
        "        valid_chars = {'I', 'V', 'X', 'L', 'C', 'D', 'M'}\n",
        "        if not all(char in valid_chars for char in s):\n",
        "            return False\n",
        "\n",
        "        for i in range(len(s) - 1):\n",
        "            current = s[i]\n",
        "            next_char = s[i + 1]\n",
        "            if current in {'V', 'L', 'D'} and self.roman_to_int[next_char] > self.roman_to_int[current]:\n",
        "                return False\n",
        "            if current == 'I' and next_char in {'V', 'X', 'L', 'C', 'D', 'M'}:\n",
        "                if next_char not in {'V', 'X'}:\n",
        "                    return False\n",
        "            if current == 'X' and next_char in {'L', 'C', 'D', 'M'}:\n",
        "                if next_char not in {'L', 'C'}:\n",
        "                    return False\n",
        "            if current == 'C' and next_char in {'D', 'M'}:\n",
        "                if next_char not in {'D', 'M'}:\n",
        "                    return False\n",
        "\n",
        "        return True\n",
        "\n",
        "user_input = input(\"Введите римскую цифру: \").strip().upper()\n",
        "\n",
        "solution = Solution()\n",
        "\n",
        "if solution.is_valid_roman(user_input):\n",
        "    result = solution.romanToInt(user_input)\n",
        "    print(f\"Значение римской цифры '{user_input}': {result}\")\n",
        "else:\n",
        "    print(\"Ошибка: Некорректный ввод римской цифры.\")\n"
      ],
      "metadata": {
        "colab": {
          "base_uri": "https://localhost:8080/"
        },
        "id": "kJCEMMYY5JMY",
        "outputId": "c9386f98-5d42-4710-af0b-bac2d651a61b"
      },
      "execution_count": 10,
      "outputs": [
        {
          "output_type": "stream",
          "name": "stdout",
          "text": [
            "Введите римскую цифру: VX\n",
            "Ошибка: Некорректный ввод римской цифры.\n"
          ]
        }
      ]
    },
    {
      "cell_type": "markdown",
      "source": [
        "**Задача 4.** Напишите функцию для поиска самой длинной общей строки-префикса среди массива строк. Если общего префикса нет, верните пустую строку \"\""
      ],
      "metadata": {
        "id": "QZhMolrY90Py"
      }
    },
    {
      "cell_type": "code",
      "source": [
        "from typing import List\n",
        "\n",
        "class Solution:\n",
        "    def longestCommonPrefix(self, strs: List[str]) -> str:\n",
        "        if not strs:\n",
        "            return \"\"\n",
        "\n",
        "        prefix = strs[0]\n",
        "        for s in strs[1:]:\n",
        "            while s[:len(prefix)] != prefix:\n",
        "                prefix = prefix[:-1]\n",
        "                if not prefix:\n",
        "                    return \"\"\n",
        "        return prefix\n",
        "\n",
        "\n",
        "solution = Solution()\n",
        "strs = []\n",
        "while True:\n",
        "  n_input = input(\"Введите количество строк: \")\n",
        "  if n_input.isdigit():\n",
        "    n = int(n_input)\n",
        "    break\n",
        "  else:\n",
        "    print(\"Ошибка: введите целое число.\")\n",
        "for i in range(n):\n",
        "    s = input(f\"Введите строку {i+1}: \")\n",
        "    strs.append(s)\n",
        "\n",
        "result = solution.longestCommonPrefix(strs)\n",
        "print(f\"Самый длинный общий префикс: '{result}'\")\n",
        "\n"
      ],
      "metadata": {
        "colab": {
          "base_uri": "https://localhost:8080/"
        },
        "id": "oXoer4g796QL",
        "outputId": "1dde1ae3-2a16-4915-ebe5-3bfcce87e36b"
      },
      "execution_count": 14,
      "outputs": [
        {
          "output_type": "stream",
          "name": "stdout",
          "text": [
            "Введите количество строк: 3\n",
            "Введите строку 1: голова\n",
            "Введите строку 2: роба\n",
            "Введите строку 3: краски\n",
            "Самый длинный общий префикс: ''\n"
          ]
        }
      ]
    },
    {
      "cell_type": "markdown",
      "source": [
        "**Задача 5.** Вам даны заголовки двух отсортированных связных списков: list1 и list2. Объедините два списка в один отсортированный. Список должен быть получен путём объединения узлов первых двух списков. Верните заголовок объединённого связного списка."
      ],
      "metadata": {
        "id": "MQuRNDOsAJaw"
      }
    },
    {
      "cell_type": "code",
      "source": [
        "class ListNode:\n",
        "    def __init__(self, val=0, next=None):\n",
        "        self.val = val\n",
        "        self.next = next\n",
        "\n",
        "def create_linked_list(values):\n",
        "    if not values:\n",
        "        return None\n",
        "    head = ListNode(values[0])\n",
        "    current = head\n",
        "    for val in values[1:]:\n",
        "        current.next = ListNode(val)\n",
        "        current = current.next\n",
        "    return head\n",
        "\n",
        "def print_linked_list(head):\n",
        "    current = head\n",
        "    while current:\n",
        "        print(current.val, end=\" -> \" if current.next else \"\")\n",
        "        current = current.next\n",
        "    print()\n",
        "\n",
        "def mergeTwoLists(list1, list2):\n",
        "    dummy = ListNode()\n",
        "    current = dummy\n",
        "\n",
        "    while list1 and list2:\n",
        "        if list1.val <= list2.val:\n",
        "            current.next = list1\n",
        "            list1 = list1.next\n",
        "        else:\n",
        "            current.next = list2\n",
        "            list2 = list2.next\n",
        "        current = current.next\n",
        "\n",
        "    current.next = list1 if list1 else list2\n",
        "    return dummy.next\n",
        "\n",
        "print(\"Введите значения для первого списка (через пробел):\")\n",
        "list1_values = list(map(int, input().split()))\n",
        "list1 = create_linked_list(list1_values)\n",
        "\n",
        "print(\"Введите значения для второго списка (через пробел):\")\n",
        "list2_values = list(map(int, input().split()))\n",
        "list2 = create_linked_list(list2_values)\n",
        "\n",
        "merged_list = mergeTwoLists(list1, list2)\n",
        "\n",
        "print(\"Объединённый отсортированный список:\")\n",
        "print_linked_list(merged_list)\n",
        "\n",
        "\n",
        "\n"
      ],
      "metadata": {
        "colab": {
          "base_uri": "https://localhost:8080/"
        },
        "id": "Dbx0tnw6EyYE",
        "outputId": "cd67a7c9-8777-4751-c5e7-2ff917b6ba34"
      },
      "execution_count": 16,
      "outputs": [
        {
          "output_type": "stream",
          "name": "stdout",
          "text": [
            "Введите значения для первого списка (через пробел):\n",
            " 2 3 6 8\n",
            "Введите значения для второго списка (через пробел):\n",
            "2 5 6 7 9\n",
            "Объединённый отсортированный список:\n",
            "2 -> 2 -> 3 -> 5 -> 6 -> 6 -> 7 -> 8 -> 9\n"
          ]
        }
      ]
    },
    {
      "cell_type": "markdown",
      "source": [
        "**Задача 6.** Для строки s найдите длину самой длинной подстроки без повторяющихся символов."
      ],
      "metadata": {
        "id": "rcEs9tawE3o_"
      }
    },
    {
      "cell_type": "code",
      "source": [
        "class Solution:\n",
        "    def lengthOfLongestSubstring(self, s: str) -> int:\n",
        "        char_set = set()\n",
        "        left = 0\n",
        "        max_length = 0\n",
        "\n",
        "        for right in range(len(s)):\n",
        "\n",
        "            while s[right] in char_set:\n",
        "                char_set.remove(s[left])\n",
        "                left += 1\n",
        "\n",
        "            char_set.add(s[right])\n",
        "\n",
        "            max_length = max(max_length, right - left + 1)\n",
        "\n",
        "        return max_length\n",
        "\n",
        "solution = Solution()\n",
        "s = input(\"Введите строку: \")\n",
        "print(solution.lengthOfLongestSubstring(s))"
      ],
      "metadata": {
        "colab": {
          "base_uri": "https://localhost:8080/"
        },
        "id": "9aYT-fgHFsEA",
        "outputId": "9715f864-1f0e-4eff-af89-3e22d2f5cf69"
      },
      "execution_count": 17,
      "outputs": [
        {
          "output_type": "stream",
          "name": "stdout",
          "text": [
            "Введите строку: пргрпгаоавларп\n",
            "5\n"
          ]
        }
      ]
    },
    {
      "cell_type": "markdown",
      "source": [
        "##**Вопросы**\n",
        "**1. Что такое динамическая типизация и чем она отличается от статической?**\n",
        "+ Динамическая типизация — это когда тип переменной определяется во время выполнения программы.\n",
        "+ Статическая типизация — тип переменной определяется на этапе компиляции и не может быть изменён.\n",
        "---\n",
        "**2. Чем отличается цикл for в Python от цикла for в С++?**\n",
        "\n",
        "Цикл for в Python предназначен для итерации по элементам коллекции (списки,\n",
        "строки, кортежи, словари, множества, генераторы).\n",
        "\n",
        "Особенности:\n",
        "* Нет явного счётчика (например, i).\n",
        "* Работает с любыми итерируемыми объектами.\n",
        "* Часто используется с функцией range() для имитации счётчика:\n",
        " Copy\n",
        "\n",
        "Цикл for в C++ — это классический цикл со счётчиком, который используется для повторения блока кода заданное количество раз.\n",
        "\n",
        "Особенности:\n",
        "+ Явное управление счётчиком (i).\n",
        "+ Можно использовать для итерации по массивам, но требуется ручное управление индексами.\n",
        "---\n",
        "**3. Для чего предназначены операторы continue и break?**\n",
        "\n",
        "Операторы break и continue используются для управления ходом выполнения циклов. Они позволяют прерывать или пропускать итерации цикла в зависимости от условий.\n",
        "\n",
        "*break* - прерывает выполнение цикла полностью и передаёт управление следующему оператору после цикла.\n",
        "+ Пример: поиск элемента: нашли — выходим.\n",
        "\n",
        "*continue* - пропускает текущую итерацию.\n",
        "+ Пример: Обработка данных: пропускаем невалидные.\n",
        "---\n",
        "**4. Как определить функцию в python? Может ли функция возвращать несколько значений?**\n",
        "\n",
        "В Python функция определяется с помощью ключевого слова def. Общий синтаксис:\n",
        "```\n",
        "def имя_функции(параметры):\n",
        "    # Тело функции\n",
        "    return значение  # (необязательно)\n",
        "```\n",
        "В Python функция может возвращать несколько значений, упаковывая их в кортеж (tuple). Это делается через запятую в операторе return.\n",
        "\n",
        "---\n",
        "**5. Что такое лямбда функции и для чего они предназначены?**\n",
        "\n",
        "Лямбда-функция — это небольшая анонимная функция, которая определяется с помощью ключевого слова lambda. Она используется для создания функций \"на лету\", без формального объявления с помощью def. Пример:\n",
        "```\n",
        "add = lambda a, b: a + b\n",
        "print(add(3, 7))  # Вывод: 10\n",
        "```\n",
        "Предназначены:\n",
        "+ Лямбда-функции позволяют писать компактный код для простых операций, не создавая полноценную функцию с def\n",
        "+ Лямбда-функции часто передаются как аргументы в функции, которые принимают другие функции (например, map(), filter(), sorted()).\n",
        "\n",
        "---\n",
        "**6. Может ли тело функции содержать определение другой функции?**\n",
        "\n",
        "Тело функции может содержать определение другой функции. Это называется вложенной функцией (или внутренней функцией). Вложенные функции позволяют инкапсулировать логику внутри другой функции, что полезно для организации кода, создания замыканий и управления областью видимости переменных.\n",
        "\n",
        "---\n",
        "**7. Как определить класс в python? Для чего нужна переменная self?**\n",
        "\n",
        "Класс в Python определяется с помощью ключевого слова class. Класс — это шаблон для создания объектов, который может содержать атрибуты (переменные) и методы (функции). Пример класса:\n",
        "```\n",
        "class Dog:\n",
        "    def __init__(self, name, age):\n",
        "        self.name = name  # Атрибут объекта\n",
        "        self.age = age    # Атрибут объекта\n",
        "\n",
        "    def bark(self):\n",
        "        print(f\"{self.name} говорит: Гав!\")\n",
        "```\n",
        "Создание объекта\n",
        "```\n",
        "my_dog = Dog(\"Бобик\", 3)\n",
        "my_dog.bark()  # Вывод: Бобик говорит: Гав!\n",
        "```\n",
        "self — это ссылка на текущий объект класса. Она используется для доступа к атрибутам и методам объекта внутри класса. self автоматически передаётся в каждый метод класса при вызове.\n",
        "\n",
        "Без self невозможно отличить атрибуты объекта от локальных переменных метода.\n",
        "Через self можно обращаться к другим методам класса.\n",
        "\n",
        "---\n",
        "**8. Как определить приватный метод? Можно ли вызвать приватный метод за пределами класса?**\n",
        "\n",
        "В Python приватные методы обозначаются с помощью двойного подчёркивания (__) в начале имени. Это соглашение, которое сигнализирует другим разработчикам, что метод или атрибут предназначен только для внутреннего использования класса. Однако Python не обеспечивает строгой инкапсуляции, как в некоторых других языках (например, Java или C++).\n",
        "\n",
        "Приватный метод можно вызвать, но это не рекомендуется\n",
        "Python использует механизм name mangling (изменение имени), чтобы усложнить доступ к приватным методам извне. Например, приватный метод __private_method внутри класса MyClass на самом деле будет называться _MyClass__private_method.\n",
        "```\n",
        "class MyClass:\n",
        "    def __private_method(self):\n",
        "        print(\"Это приватный метод!\")\n",
        "\n",
        "obj = MyClass()\n",
        "\n",
        "# Прямой вызов приватного метода вызовет ошибку:\n",
        "obj.__private_method()  # AttributeError\n",
        "\n",
        "# Но можно вызвать через изменённое имя (не рекомендуется!):\n",
        "obj._MyClass__private_method()  # Вывод: Это приватный метод!\n",
        "\n",
        "```\n",
        "---\n",
        "**9. Как определить статический метод класса? Для чего может понадобиться статический метод?**\n",
        "\n",
        "Статический метод в Python определяется с помощью декоратора @staticmethod. Такой метод не принимает автоматически ни self (ссылку на объект), ни cls (ссылку на класс). Он ведёт себя как обычная функция, но принадлежит пространству имён класса.\n",
        "\n",
        "Статический метод может понадобиться:\n",
        "+ **Логическая связь с классом:**\n",
        "Статические методы используются, когда функция логически относится к классу, но не требует доступа к его атрибутам или методам.\n",
        "\n",
        "+ **Утилитарные функции:**\n",
        "Если функция выполняет вспомогательную роль (например, математические вычисления, проверки, преобразования), её можно оформить как статический метод, чтобы группировать связанные функции внутри класса.\n",
        "\n",
        "\n",
        "+ **Избегание создания объектов:**\n",
        "Статические методы можно вызывать без создания экземпляра класса, что удобно для утилитарных операций.\n",
        "\n",
        "\n",
        "+ **Сокрытие реализации:**\n",
        "Статические методы позволяют инкапсулировать логику внутри класса, не раскрывая её как глобальную функцию.\n",
        "---\n",
        "**10. Чем staticmethod отличается от classmethod?**\n",
        "\n",
        "В Python staticmethod и classmethod — это декораторы, которые позволяют определять методы, связанные с классом, но с разными особенностями:\n",
        "\n",
        "**classmethod**\n",
        "\n",
        "+ Связан с классом, а не с экземпляром.\n",
        "+ Первым аргументом принимает cls (ссылку на сам класс), что позволяет обращаться к атрибутам и методам класса.\n",
        "+ Может использоваться для создания альтернативных конструкторов (например, метод from_string).\n",
        "+ Может изменять состояние класса.\n",
        "```\n",
        "class MyClass:\n",
        "    @classmethod\n",
        "    def create_obj(cls, value):\n",
        "        return cls(value)  # Вызов конструктора класса\n",
        "\n",
        "```\n",
        "\n",
        "**staticmethod**\n",
        "\n",
        "+ Не связан ни с классом, ни с экземпляром.\n",
        "+ Не принимает автоматически ни self, ни cls.\n",
        "+ Используется для создания вспомогательных функций, логически связанных с классом, но не требующих доступа к его атрибутам.\n",
        "+ Не может изменять состояние класса или экземпляра.\n",
        "```\n",
        "class MyClass:\n",
        "    @classmethod\n",
        "    def create_obj(cls, value):\n",
        "        return cls(value)  # Вызов конструктора класса\n",
        "\n",
        "```\n",
        "\n",
        "---\n",
        "**11. Как определить собственный класс исключений Python? Как выбросить и перехватить исключение?**\n",
        "\n",
        "Собственный класс исключений создаётся путём наследования от встроенного класса Exception или его подклассов (например, ValueError, RuntimeError и т.д.):\n",
        "```\n",
        "class MyCustomError(Exception):\n",
        "    \"\"\"Мой собственный класс исключений.\"\"\"\n",
        "    pass\n",
        "```\n",
        "Для генерации(выброса) исключения используется оператор raise:\n",
        "```\n",
        "def check_value(value):\n",
        "    if value < 0:\n",
        "        raise MyCustomError(\"Значение не может быть отрицательным!\", 1001)\n",
        "    return value\n",
        "\n",
        "check_value(-5)  # Выбросит MyCustomError\n",
        "```\n",
        "Для перехвата исключений используется конструкция try-except:\n",
        "```\n",
        "try:\n",
        "    result = check_value(-5)\n",
        "except MyCustomError as e:\n",
        "    print(f\"Поймано исключение: {e}\")\n",
        "```\n",
        "---\n",
        "**12. Что такое картеж, для чего он используется?**\n",
        "\n",
        "Кортеж (tuple) в Python — это неизменяемая упорядоченная коллекция элементов, похожая на список, но с ключевым отличием: после создания кортеж нельзя изменить (добавить, удалить или заменить элементы).\n",
        "\n",
        "Для чего используются кортежи:\n",
        "+ **Защита данных от изменений:**\n",
        "Если нужно гарантировать, что коллекция не будет изменена случайно или намеренно, используют кортеж.\n",
        "\n",
        "\n",
        "+ **Ключи в словарях:**\n",
        "Кортежи можно использовать как ключи в словарях (в отличие от списков).\n",
        "\n",
        "\n",
        "+ **Оптимизация производительности:**\n",
        "Кортежи работают быстрее списков, так как Python может оптимизировать их обработку из-за неизменяемости.\n",
        "\n",
        "---\n"
      ],
      "metadata": {
        "id": "GyxT2LCSHO5i"
      }
    }
  ]
}